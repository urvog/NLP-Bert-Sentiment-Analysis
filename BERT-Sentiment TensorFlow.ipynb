{
 "cells": [
  {
   "cell_type": "code",
   "execution_count": 4,
   "id": "1a27247b-ddaa-4b35-bb94-8030b8705b47",
   "metadata": {},
   "outputs": [
    {
     "name": "stdout",
     "output_type": "stream",
     "text": [
      "Requirement already satisfied: transformers in /usr/local/lib/python3.8/site-packages (4.21.0)\n",
      "Requirement already satisfied: regex!=2019.12.17 in /usr/local/lib/python3.8/site-packages (from transformers) (2022.7.25)\n",
      "Requirement already satisfied: requests in /usr/local/lib/python3.8/site-packages (from transformers) (2.25.1)\n",
      "Requirement already satisfied: pyyaml>=5.1 in /usr/local/lib/python3.8/site-packages (from transformers) (5.4.1)\n",
      "Requirement already satisfied: huggingface-hub<1.0,>=0.1.0 in /usr/local/lib/python3.8/site-packages (from transformers) (0.8.1)\n",
      "Requirement already satisfied: tokenizers!=0.11.3,<0.13,>=0.11.1 in /usr/local/lib/python3.8/site-packages (from transformers) (0.12.1)\n",
      "Requirement already satisfied: numpy>=1.17 in /usr/local/lib/python3.8/site-packages (from transformers) (1.19.5)\n",
      "Requirement already satisfied: packaging>=20.0 in /usr/local/lib/python3.8/site-packages (from transformers) (21.3)\n",
      "Requirement already satisfied: filelock in /usr/local/lib/python3.8/site-packages (from transformers) (3.4.0)\n",
      "Requirement already satisfied: tqdm>=4.27 in /usr/local/lib/python3.8/site-packages (from transformers) (4.62.3)\n",
      "Requirement already satisfied: typing-extensions>=3.7.4.3 in /usr/local/lib/python3.8/site-packages (from huggingface-hub<1.0,>=0.1.0->transformers) (3.7.4.3)\n",
      "Requirement already satisfied: pyparsing!=3.0.5,>=2.0.2 in /usr/local/lib/python3.8/site-packages (from packaging>=20.0->transformers) (3.0.6)\n",
      "Requirement already satisfied: idna<3,>=2.5 in /usr/local/lib/python3.8/site-packages (from requests->transformers) (2.10)\n",
      "Requirement already satisfied: chardet<5,>=3.0.2 in /usr/local/lib/python3.8/site-packages (from requests->transformers) (4.0.0)\n",
      "Requirement already satisfied: certifi>=2017.4.17 in /usr/local/lib/python3.8/site-packages (from requests->transformers) (2021.10.8)\n",
      "Requirement already satisfied: urllib3<1.27,>=1.21.1 in /usr/local/lib/python3.8/site-packages (from requests->transformers) (1.26.7)\n",
      "\u001b[33mWARNING: Running pip as the 'root' user can result in broken permissions and conflicting behaviour with the system package manager. It is recommended to use a virtual environment instead: https://pip.pypa.io/warnings/venv\u001b[0m\n",
      "\u001b[33mWARNING: You are using pip version 21.3.1; however, version 22.2 is available.\n",
      "You should consider upgrading via the '/usr/local/bin/python3.8 -m pip install --upgrade pip' command.\u001b[0m\n",
      "Requirement already satisfied: codecarbon in /usr/local/lib/python3.8/site-packages (2.1.3)\n",
      "Requirement already satisfied: fuzzywuzzy in /usr/local/lib/python3.8/site-packages (from codecarbon) (0.18.0)\n",
      "Requirement already satisfied: requests in /usr/local/lib/python3.8/site-packages (from codecarbon) (2.25.1)\n",
      "Requirement already satisfied: click in /usr/local/lib/python3.8/site-packages (from codecarbon) (8.0.3)\n",
      "Requirement already satisfied: pandas in /usr/local/lib/python3.8/site-packages (from codecarbon) (1.2.5)\n",
      "Requirement already satisfied: pynvml in /usr/local/lib/python3.8/site-packages (from codecarbon) (11.4.1)\n",
      "Requirement already satisfied: psutil in /usr/local/lib/python3.8/site-packages (from codecarbon) (5.8.0)\n",
      "Requirement already satisfied: arrow in /usr/local/lib/python3.8/site-packages (from codecarbon) (1.2.2)\n",
      "Requirement already satisfied: py-cpuinfo in /usr/local/lib/python3.8/site-packages (from codecarbon) (8.0.0)\n",
      "Requirement already satisfied: python-dateutil>=2.7.0 in /usr/local/lib/python3.8/site-packages (from arrow->codecarbon) (2.8.2)\n",
      "Requirement already satisfied: pytz>=2017.3 in /usr/local/lib/python3.8/site-packages (from pandas->codecarbon) (2021.3)\n",
      "Requirement already satisfied: numpy>=1.16.5 in /usr/local/lib/python3.8/site-packages (from pandas->codecarbon) (1.19.5)\n",
      "Requirement already satisfied: chardet<5,>=3.0.2 in /usr/local/lib/python3.8/site-packages (from requests->codecarbon) (4.0.0)\n",
      "Requirement already satisfied: certifi>=2017.4.17 in /usr/local/lib/python3.8/site-packages (from requests->codecarbon) (2021.10.8)\n",
      "Requirement already satisfied: urllib3<1.27,>=1.21.1 in /usr/local/lib/python3.8/site-packages (from requests->codecarbon) (1.26.7)\n",
      "Requirement already satisfied: idna<3,>=2.5 in /usr/local/lib/python3.8/site-packages (from requests->codecarbon) (2.10)\n",
      "Requirement already satisfied: six>=1.5 in /usr/local/lib/python3.8/site-packages (from python-dateutil>=2.7.0->arrow->codecarbon) (1.16.0)\n",
      "\u001b[33mWARNING: Running pip as the 'root' user can result in broken permissions and conflicting behaviour with the system package manager. It is recommended to use a virtual environment instead: https://pip.pypa.io/warnings/venv\u001b[0m\n",
      "\u001b[33mWARNING: You are using pip version 21.3.1; however, version 22.2 is available.\n",
      "You should consider upgrading via the '/usr/local/bin/python3.8 -m pip install --upgrade pip' command.\u001b[0m\n"
     ]
    }
   ],
   "source": [
    "!pip install transformers\n",
    "!pip install codecarbon"
   ]
  },
  {
   "cell_type": "code",
   "execution_count": 5,
   "id": "dc19d927-54a4-4e85-9145-1095c47f0cc9",
   "metadata": {
    "executionInfo": {
     "elapsed": 422,
     "status": "ok",
     "timestamp": 1658419027159,
     "user": {
      "displayName": "Mauricio Arancibia",
      "userId": "13958671575886021820"
     },
     "user_tz": 240
    },
    "id": "dc19d927-54a4-4e85-9145-1095c47f0cc9"
   },
   "outputs": [],
   "source": [
    "import pandas as pd\n",
    "import numpy as np\n",
    "import matplotlib.pyplot as plt\n",
    "\n",
    "from transformers import BertTokenizer, BertConfig, TFBertForSequenceClassification\n",
    "import tensorflow as tf\n",
    "\n",
    "from sklearn.model_selection import train_test_split\n",
    "from sklearn.metrics import plot_confusion_matrix\n",
    "from sklearn.metrics import confusion_matrix\n",
    "import seaborn as sns\n",
    "import pickle\n",
    "\n",
    "from codecarbon import EmissionsTracker\n",
    "\n",
    "pd.options.display.max_colwidth = None\n",
    "%matplotlib inline"
   ]
  },
  {
   "cell_type": "markdown",
   "id": "YFn9sSgM4vHS",
   "metadata": {
    "id": "YFn9sSgM4vHS"
   },
   "source": [
    "## Importing data sets"
   ]
  },
  {
   "cell_type": "code",
   "execution_count": 6,
   "id": "50a76c0a-378a-489a-b78b-36d1e332c68a",
   "metadata": {
    "executionInfo": {
     "elapsed": 337,
     "status": "ok",
     "timestamp": 1658425975651,
     "user": {
      "displayName": "Mauricio Arancibia",
      "userId": "13958671575886021820"
     },
     "user_tz": 240
    },
    "id": "50a76c0a-378a-489a-b78b-36d1e332c68a"
   },
   "outputs": [],
   "source": [
    "#importint datasets\n",
    "\n",
    "df_train = pd.read_csv('data/train.txt', header = None, sep =';', names = ['Input','Sentiment'], encoding='utf-8')\n",
    "df_test = pd.read_csv('data/test.txt', header = None, sep =';', names = ['Input','Sentiment'], encoding='utf-8')\n",
    "df_valid = pd.read_csv('data/val.txt', header = None, sep =';', names = ['Input','Sentiment'], encoding='utf-8')\n",
    "\n",
    "df_valid2 = df_valid.copy()"
   ]
  },
  {
   "cell_type": "code",
   "execution_count": 7,
   "id": "1505b4d5-41a3-4baf-bd88-6e156c9e494b",
   "metadata": {
    "colab": {
     "base_uri": "https://localhost:8080/",
     "height": 224
    },
    "executionInfo": {
     "elapsed": 4,
     "status": "ok",
     "timestamp": 1658423372132,
     "user": {
      "displayName": "Mauricio Arancibia",
      "userId": "13958671575886021820"
     },
     "user_tz": 240
    },
    "id": "1505b4d5-41a3-4baf-bd88-6e156c9e494b",
    "outputId": "0afef042-5e66-4cc1-b483-7b4de4f5ea88"
   },
   "outputs": [
    {
     "name": "stdout",
     "output_type": "stream",
     "text": [
      "(16000, 2)\n"
     ]
    },
    {
     "data": {
      "text/html": [
       "<div>\n",
       "<style scoped>\n",
       "    .dataframe tbody tr th:only-of-type {\n",
       "        vertical-align: middle;\n",
       "    }\n",
       "\n",
       "    .dataframe tbody tr th {\n",
       "        vertical-align: top;\n",
       "    }\n",
       "\n",
       "    .dataframe thead th {\n",
       "        text-align: right;\n",
       "    }\n",
       "</style>\n",
       "<table border=\"1\" class=\"dataframe\">\n",
       "  <thead>\n",
       "    <tr style=\"text-align: right;\">\n",
       "      <th></th>\n",
       "      <th>Input</th>\n",
       "      <th>Sentiment</th>\n",
       "    </tr>\n",
       "  </thead>\n",
       "  <tbody>\n",
       "    <tr>\n",
       "      <th>0</th>\n",
       "      <td>i didnt feel humiliated</td>\n",
       "      <td>sadness</td>\n",
       "    </tr>\n",
       "    <tr>\n",
       "      <th>1</th>\n",
       "      <td>i can go from feeling so hopeless to so damned hopeful just from being around someone who cares and is awake</td>\n",
       "      <td>sadness</td>\n",
       "    </tr>\n",
       "    <tr>\n",
       "      <th>2</th>\n",
       "      <td>im grabbing a minute to post i feel greedy wrong</td>\n",
       "      <td>anger</td>\n",
       "    </tr>\n",
       "    <tr>\n",
       "      <th>3</th>\n",
       "      <td>i am ever feeling nostalgic about the fireplace i will know that it is still on the property</td>\n",
       "      <td>love</td>\n",
       "    </tr>\n",
       "    <tr>\n",
       "      <th>4</th>\n",
       "      <td>i am feeling grouchy</td>\n",
       "      <td>anger</td>\n",
       "    </tr>\n",
       "  </tbody>\n",
       "</table>\n",
       "</div>"
      ],
      "text/plain": [
       "                                                                                                          Input  \\\n",
       "0                                                                                       i didnt feel humiliated   \n",
       "1  i can go from feeling so hopeless to so damned hopeful just from being around someone who cares and is awake   \n",
       "2                                                              im grabbing a minute to post i feel greedy wrong   \n",
       "3                  i am ever feeling nostalgic about the fireplace i will know that it is still on the property   \n",
       "4                                                                                          i am feeling grouchy   \n",
       "\n",
       "  Sentiment  \n",
       "0   sadness  \n",
       "1   sadness  \n",
       "2     anger  \n",
       "3      love  \n",
       "4     anger  "
      ]
     },
     "execution_count": 7,
     "metadata": {},
     "output_type": "execute_result"
    }
   ],
   "source": [
    "#train dataset\n",
    "print(df_train.shape)\n",
    "df_train.head()"
   ]
  },
  {
   "cell_type": "code",
   "execution_count": 8,
   "id": "696ec466-f7b1-463c-b002-425eeff1903c",
   "metadata": {
    "colab": {
     "base_uri": "https://localhost:8080/",
     "height": 224
    },
    "executionInfo": {
     "elapsed": 4,
     "status": "ok",
     "timestamp": 1658423372133,
     "user": {
      "displayName": "Mauricio Arancibia",
      "userId": "13958671575886021820"
     },
     "user_tz": 240
    },
    "id": "696ec466-f7b1-463c-b002-425eeff1903c",
    "outputId": "4af5a13c-c4a8-4960-b1fe-65ea7711781a"
   },
   "outputs": [
    {
     "name": "stdout",
     "output_type": "stream",
     "text": [
      "(2000, 2)\n"
     ]
    },
    {
     "data": {
      "text/html": [
       "<div>\n",
       "<style scoped>\n",
       "    .dataframe tbody tr th:only-of-type {\n",
       "        vertical-align: middle;\n",
       "    }\n",
       "\n",
       "    .dataframe tbody tr th {\n",
       "        vertical-align: top;\n",
       "    }\n",
       "\n",
       "    .dataframe thead th {\n",
       "        text-align: right;\n",
       "    }\n",
       "</style>\n",
       "<table border=\"1\" class=\"dataframe\">\n",
       "  <thead>\n",
       "    <tr style=\"text-align: right;\">\n",
       "      <th></th>\n",
       "      <th>Input</th>\n",
       "      <th>Sentiment</th>\n",
       "    </tr>\n",
       "  </thead>\n",
       "  <tbody>\n",
       "    <tr>\n",
       "      <th>0</th>\n",
       "      <td>im feeling rather rotten so im not very ambitious right now</td>\n",
       "      <td>sadness</td>\n",
       "    </tr>\n",
       "    <tr>\n",
       "      <th>1</th>\n",
       "      <td>im updating my blog because i feel shitty</td>\n",
       "      <td>sadness</td>\n",
       "    </tr>\n",
       "    <tr>\n",
       "      <th>2</th>\n",
       "      <td>i never make her separate from me because i don t ever want her to feel like i m ashamed with her</td>\n",
       "      <td>sadness</td>\n",
       "    </tr>\n",
       "    <tr>\n",
       "      <th>3</th>\n",
       "      <td>i left with my bouquet of red and yellow tulips under my arm feeling slightly more optimistic than when i arrived</td>\n",
       "      <td>joy</td>\n",
       "    </tr>\n",
       "    <tr>\n",
       "      <th>4</th>\n",
       "      <td>i was feeling a little vain when i did this one</td>\n",
       "      <td>sadness</td>\n",
       "    </tr>\n",
       "  </tbody>\n",
       "</table>\n",
       "</div>"
      ],
      "text/plain": [
       "                                                                                                               Input  \\\n",
       "0                                                        im feeling rather rotten so im not very ambitious right now   \n",
       "1                                                                          im updating my blog because i feel shitty   \n",
       "2                  i never make her separate from me because i don t ever want her to feel like i m ashamed with her   \n",
       "3  i left with my bouquet of red and yellow tulips under my arm feeling slightly more optimistic than when i arrived   \n",
       "4                                                                    i was feeling a little vain when i did this one   \n",
       "\n",
       "  Sentiment  \n",
       "0   sadness  \n",
       "1   sadness  \n",
       "2   sadness  \n",
       "3       joy  \n",
       "4   sadness  "
      ]
     },
     "execution_count": 8,
     "metadata": {},
     "output_type": "execute_result"
    }
   ],
   "source": [
    "#test dataset\n",
    "print(df_test.shape)\n",
    "df_test.head()"
   ]
  },
  {
   "cell_type": "code",
   "execution_count": 9,
   "id": "h0qFh4NFulSH",
   "metadata": {
    "colab": {
     "base_uri": "https://localhost:8080/",
     "height": 224
    },
    "executionInfo": {
     "elapsed": 5,
     "status": "ok",
     "timestamp": 1658423372552,
     "user": {
      "displayName": "Mauricio Arancibia",
      "userId": "13958671575886021820"
     },
     "user_tz": 240
    },
    "id": "h0qFh4NFulSH",
    "outputId": "62b19372-bafe-4596-ad87-28ffcf7f0ef8"
   },
   "outputs": [
    {
     "name": "stdout",
     "output_type": "stream",
     "text": [
      "(2000, 2)\n"
     ]
    },
    {
     "data": {
      "text/html": [
       "<div>\n",
       "<style scoped>\n",
       "    .dataframe tbody tr th:only-of-type {\n",
       "        vertical-align: middle;\n",
       "    }\n",
       "\n",
       "    .dataframe tbody tr th {\n",
       "        vertical-align: top;\n",
       "    }\n",
       "\n",
       "    .dataframe thead th {\n",
       "        text-align: right;\n",
       "    }\n",
       "</style>\n",
       "<table border=\"1\" class=\"dataframe\">\n",
       "  <thead>\n",
       "    <tr style=\"text-align: right;\">\n",
       "      <th></th>\n",
       "      <th>Input</th>\n",
       "      <th>Sentiment</th>\n",
       "    </tr>\n",
       "  </thead>\n",
       "  <tbody>\n",
       "    <tr>\n",
       "      <th>0</th>\n",
       "      <td>im feeling quite sad and sorry for myself but ill snap out of it soon</td>\n",
       "      <td>sadness</td>\n",
       "    </tr>\n",
       "    <tr>\n",
       "      <th>1</th>\n",
       "      <td>i feel like i am still looking at a blank canvas blank pieces of paper</td>\n",
       "      <td>sadness</td>\n",
       "    </tr>\n",
       "    <tr>\n",
       "      <th>2</th>\n",
       "      <td>i feel like a faithful servant</td>\n",
       "      <td>love</td>\n",
       "    </tr>\n",
       "    <tr>\n",
       "      <th>3</th>\n",
       "      <td>i am just feeling cranky and blue</td>\n",
       "      <td>anger</td>\n",
       "    </tr>\n",
       "    <tr>\n",
       "      <th>4</th>\n",
       "      <td>i can have for a treat or if i am feeling festive</td>\n",
       "      <td>joy</td>\n",
       "    </tr>\n",
       "  </tbody>\n",
       "</table>\n",
       "</div>"
      ],
      "text/plain": [
       "                                                                    Input  \\\n",
       "0   im feeling quite sad and sorry for myself but ill snap out of it soon   \n",
       "1  i feel like i am still looking at a blank canvas blank pieces of paper   \n",
       "2                                          i feel like a faithful servant   \n",
       "3                                       i am just feeling cranky and blue   \n",
       "4                       i can have for a treat or if i am feeling festive   \n",
       "\n",
       "  Sentiment  \n",
       "0   sadness  \n",
       "1   sadness  \n",
       "2      love  \n",
       "3     anger  \n",
       "4       joy  "
      ]
     },
     "execution_count": 9,
     "metadata": {},
     "output_type": "execute_result"
    }
   ],
   "source": [
    "#Valid dataset\n",
    "print(df_valid.shape)\n",
    "df_valid.head()"
   ]
  },
  {
   "cell_type": "code",
   "execution_count": 10,
   "id": "c930c10b-eb15-4e6b-bb66-f2538945c30b",
   "metadata": {
    "colab": {
     "base_uri": "https://localhost:8080/"
    },
    "executionInfo": {
     "elapsed": 3,
     "status": "ok",
     "timestamp": 1658423372552,
     "user": {
      "displayName": "Mauricio Arancibia",
      "userId": "13958671575886021820"
     },
     "user_tz": 240
    },
    "id": "c930c10b-eb15-4e6b-bb66-f2538945c30b",
    "outputId": "86b18742-23f0-42a4-d0ca-12b04c371a0e"
   },
   "outputs": [
    {
     "name": "stdout",
     "output_type": "stream",
     "text": [
      "joy         5362\n",
      "sadness     4666\n",
      "anger       2159\n",
      "fear        1937\n",
      "love        1304\n",
      "surprise     572\n",
      "Name: Sentiment, dtype: int64\n"
     ]
    },
    {
     "data": {
      "text/plain": [
       "<AxesSubplot:ylabel='Sentiment'>"
      ]
     },
     "execution_count": 10,
     "metadata": {},
     "output_type": "execute_result"
    },
    {
     "data": {
      "image/png": "[encoded data removed]",
      "text/plain": [
       "<Figure size 432x288 with 1 Axes>"
      ]
     },
     "metadata": {
      "needs_background": "light"
     },
     "output_type": "display_data"
    }
   ],
   "source": [
    "#Train distributions targets sentiment\n",
    "data = df_train.Sentiment.value_counts()\n",
    "print(data)\n",
    "sns.barplot(x = data.index, y = data)"
   ]
  },
  {
   "cell_type": "code",
   "execution_count": 11,
   "id": "7795fede-12e1-414d-8a81-ac74f81f633f",
   "metadata": {
    "executionInfo": {
     "elapsed": 2,
     "status": "ok",
     "timestamp": 1658423372552,
     "user": {
      "displayName": "Mauricio Arancibia",
      "userId": "13958671575886021820"
     },
     "user_tz": 240
    },
    "id": "7795fede-12e1-414d-8a81-ac74f81f633f"
   },
   "outputs": [],
   "source": [
    "#Encoding sentiments\n",
    "encoded_dict = {'anger':0,'fear':1, 'joy':2, 'love':3, 'sadness':4, 'surprise':5}\n",
    "df_train['Sentiment'] = df_train.Sentiment.map(encoded_dict)\n",
    "df_test['Sentiment'] = df_test.Sentiment.map(encoded_dict)\n",
    "df_valid['Sentiment'] = df_valid.Sentiment.map(encoded_dict)"
   ]
  },
  {
   "cell_type": "code",
   "execution_count": 12,
   "id": "5895d310-3f62-488a-a915-18c06f36ac23",
   "metadata": {
    "colab": {
     "base_uri": "https://localhost:8080/",
     "height": 206
    },
    "executionInfo": {
     "elapsed": 6,
     "status": "ok",
     "timestamp": 1658423373191,
     "user": {
      "displayName": "Mauricio Arancibia",
      "userId": "13958671575886021820"
     },
     "user_tz": 240
    },
    "id": "5895d310-3f62-488a-a915-18c06f36ac23",
    "outputId": "3a41e2b4-7f24-40f4-d642-b98cf790d55e"
   },
   "outputs": [
    {
     "data": {
      "text/html": [
       "<div>\n",
       "<style scoped>\n",
       "    .dataframe tbody tr th:only-of-type {\n",
       "        vertical-align: middle;\n",
       "    }\n",
       "\n",
       "    .dataframe tbody tr th {\n",
       "        vertical-align: top;\n",
       "    }\n",
       "\n",
       "    .dataframe thead th {\n",
       "        text-align: right;\n",
       "    }\n",
       "</style>\n",
       "<table border=\"1\" class=\"dataframe\">\n",
       "  <thead>\n",
       "    <tr style=\"text-align: right;\">\n",
       "      <th></th>\n",
       "      <th>Input</th>\n",
       "      <th>Sentiment</th>\n",
       "    </tr>\n",
       "  </thead>\n",
       "  <tbody>\n",
       "    <tr>\n",
       "      <th>0</th>\n",
       "      <td>i didnt feel humiliated</td>\n",
       "      <td>4</td>\n",
       "    </tr>\n",
       "    <tr>\n",
       "      <th>1</th>\n",
       "      <td>i can go from feeling so hopeless to so damned hopeful just from being around someone who cares and is awake</td>\n",
       "      <td>4</td>\n",
       "    </tr>\n",
       "    <tr>\n",
       "      <th>2</th>\n",
       "      <td>im grabbing a minute to post i feel greedy wrong</td>\n",
       "      <td>0</td>\n",
       "    </tr>\n",
       "    <tr>\n",
       "      <th>3</th>\n",
       "      <td>i am ever feeling nostalgic about the fireplace i will know that it is still on the property</td>\n",
       "      <td>3</td>\n",
       "    </tr>\n",
       "    <tr>\n",
       "      <th>4</th>\n",
       "      <td>i am feeling grouchy</td>\n",
       "      <td>0</td>\n",
       "    </tr>\n",
       "  </tbody>\n",
       "</table>\n",
       "</div>"
      ],
      "text/plain": [
       "                                                                                                          Input  \\\n",
       "0                                                                                       i didnt feel humiliated   \n",
       "1  i can go from feeling so hopeless to so damned hopeful just from being around someone who cares and is awake   \n",
       "2                                                              im grabbing a minute to post i feel greedy wrong   \n",
       "3                  i am ever feeling nostalgic about the fireplace i will know that it is still on the property   \n",
       "4                                                                                          i am feeling grouchy   \n",
       "\n",
       "   Sentiment  \n",
       "0          4  \n",
       "1          4  \n",
       "2          0  \n",
       "3          3  \n",
       "4          0  "
      ]
     },
     "execution_count": 12,
     "metadata": {},
     "output_type": "execute_result"
    }
   ],
   "source": [
    "df_train.head()"
   ]
  },
  {
   "cell_type": "code",
   "execution_count": 13,
   "id": "f6d67c1f-32c0-435d-b25e-04662b60c830",
   "metadata": {
    "colab": {
     "base_uri": "https://localhost:8080/",
     "height": 206
    },
    "executionInfo": {
     "elapsed": 482,
     "status": "ok",
     "timestamp": 1658423375763,
     "user": {
      "displayName": "Mauricio Arancibia",
      "userId": "13958671575886021820"
     },
     "user_tz": 240
    },
    "id": "f6d67c1f-32c0-435d-b25e-04662b60c830",
    "outputId": "62f9bebd-63fc-481a-d27a-2ef63dce10ff"
   },
   "outputs": [
    {
     "data": {
      "text/html": [
       "<div>\n",
       "<style scoped>\n",
       "    .dataframe tbody tr th:only-of-type {\n",
       "        vertical-align: middle;\n",
       "    }\n",
       "\n",
       "    .dataframe tbody tr th {\n",
       "        vertical-align: top;\n",
       "    }\n",
       "\n",
       "    .dataframe thead th {\n",
       "        text-align: right;\n",
       "    }\n",
       "</style>\n",
       "<table border=\"1\" class=\"dataframe\">\n",
       "  <thead>\n",
       "    <tr style=\"text-align: right;\">\n",
       "      <th></th>\n",
       "      <th>Input</th>\n",
       "      <th>Sentiment</th>\n",
       "    </tr>\n",
       "  </thead>\n",
       "  <tbody>\n",
       "    <tr>\n",
       "      <th>0</th>\n",
       "      <td>im feeling rather rotten so im not very ambitious right now</td>\n",
       "      <td>4</td>\n",
       "    </tr>\n",
       "    <tr>\n",
       "      <th>1</th>\n",
       "      <td>im updating my blog because i feel shitty</td>\n",
       "      <td>4</td>\n",
       "    </tr>\n",
       "    <tr>\n",
       "      <th>2</th>\n",
       "      <td>i never make her separate from me because i don t ever want her to feel like i m ashamed with her</td>\n",
       "      <td>4</td>\n",
       "    </tr>\n",
       "    <tr>\n",
       "      <th>3</th>\n",
       "      <td>i left with my bouquet of red and yellow tulips under my arm feeling slightly more optimistic than when i arrived</td>\n",
       "      <td>2</td>\n",
       "    </tr>\n",
       "    <tr>\n",
       "      <th>4</th>\n",
       "      <td>i was feeling a little vain when i did this one</td>\n",
       "      <td>4</td>\n",
       "    </tr>\n",
       "  </tbody>\n",
       "</table>\n",
       "</div>"
      ],
      "text/plain": [
       "                                                                                                               Input  \\\n",
       "0                                                        im feeling rather rotten so im not very ambitious right now   \n",
       "1                                                                          im updating my blog because i feel shitty   \n",
       "2                  i never make her separate from me because i don t ever want her to feel like i m ashamed with her   \n",
       "3  i left with my bouquet of red and yellow tulips under my arm feeling slightly more optimistic than when i arrived   \n",
       "4                                                                    i was feeling a little vain when i did this one   \n",
       "\n",
       "   Sentiment  \n",
       "0          4  \n",
       "1          4  \n",
       "2          4  \n",
       "3          2  \n",
       "4          4  "
      ]
     },
     "execution_count": 13,
     "metadata": {},
     "output_type": "execute_result"
    }
   ],
   "source": [
    "df_test.head()"
   ]
  },
  {
   "cell_type": "code",
   "execution_count": 14,
   "id": "uyH89Dxju9uF",
   "metadata": {
    "colab": {
     "base_uri": "https://localhost:8080/",
     "height": 206
    },
    "executionInfo": {
     "elapsed": 445,
     "status": "ok",
     "timestamp": 1658423376205,
     "user": {
      "displayName": "Mauricio Arancibia",
      "userId": "13958671575886021820"
     },
     "user_tz": 240
    },
    "id": "uyH89Dxju9uF",
    "outputId": "2a4a8f79-1da9-4ab1-b365-71d9cd411e01"
   },
   "outputs": [
    {
     "data": {
      "text/html": [
       "<div>\n",
       "<style scoped>\n",
       "    .dataframe tbody tr th:only-of-type {\n",
       "        vertical-align: middle;\n",
       "    }\n",
       "\n",
       "    .dataframe tbody tr th {\n",
       "        vertical-align: top;\n",
       "    }\n",
       "\n",
       "    .dataframe thead th {\n",
       "        text-align: right;\n",
       "    }\n",
       "</style>\n",
       "<table border=\"1\" class=\"dataframe\">\n",
       "  <thead>\n",
       "    <tr style=\"text-align: right;\">\n",
       "      <th></th>\n",
       "      <th>Input</th>\n",
       "      <th>Sentiment</th>\n",
       "    </tr>\n",
       "  </thead>\n",
       "  <tbody>\n",
       "    <tr>\n",
       "      <th>0</th>\n",
       "      <td>im feeling quite sad and sorry for myself but ill snap out of it soon</td>\n",
       "      <td>4</td>\n",
       "    </tr>\n",
       "    <tr>\n",
       "      <th>1</th>\n",
       "      <td>i feel like i am still looking at a blank canvas blank pieces of paper</td>\n",
       "      <td>4</td>\n",
       "    </tr>\n",
       "    <tr>\n",
       "      <th>2</th>\n",
       "      <td>i feel like a faithful servant</td>\n",
       "      <td>3</td>\n",
       "    </tr>\n",
       "    <tr>\n",
       "      <th>3</th>\n",
       "      <td>i am just feeling cranky and blue</td>\n",
       "      <td>0</td>\n",
       "    </tr>\n",
       "    <tr>\n",
       "      <th>4</th>\n",
       "      <td>i can have for a treat or if i am feeling festive</td>\n",
       "      <td>2</td>\n",
       "    </tr>\n",
       "  </tbody>\n",
       "</table>\n",
       "</div>"
      ],
      "text/plain": [
       "                                                                    Input  \\\n",
       "0   im feeling quite sad and sorry for myself but ill snap out of it soon   \n",
       "1  i feel like i am still looking at a blank canvas blank pieces of paper   \n",
       "2                                          i feel like a faithful servant   \n",
       "3                                       i am just feeling cranky and blue   \n",
       "4                       i can have for a treat or if i am feeling festive   \n",
       "\n",
       "   Sentiment  \n",
       "0          4  \n",
       "1          4  \n",
       "2          3  \n",
       "3          0  \n",
       "4          2  "
      ]
     },
     "execution_count": 14,
     "metadata": {},
     "output_type": "execute_result"
    }
   ],
   "source": [
    "df_valid.head()"
   ]
  },
  {
   "cell_type": "code",
   "execution_count": 15,
   "id": "9169d642-82e4-4ee8-9a42-7791687924ba",
   "metadata": {
    "executionInfo": {
     "elapsed": 332,
     "status": "ok",
     "timestamp": 1658423379143,
     "user": {
      "displayName": "Mauricio Arancibia",
      "userId": "13958671575886021820"
     },
     "user_tz": 240
    },
    "id": "9169d642-82e4-4ee8-9a42-7791687924ba"
   },
   "outputs": [],
   "source": [
    "X_train = df_train.Input\n",
    "y_train = df_train.Sentiment\n",
    "\n",
    "X_test = df_test.Input\n",
    "y_test = df_test.Sentiment\n",
    "\n",
    "X_valid = df_valid.Input\n",
    "y_valid = df_valid.Sentiment"
   ]
  },
  {
   "cell_type": "markdown",
   "id": "de4ad460-1cde-4d1a-a87a-c94df0931250",
   "metadata": {
    "id": "de4ad460-1cde-4d1a-a87a-c94df0931250"
   },
   "source": [
    "## Preparing DATA"
   ]
  },
  {
   "cell_type": "code",
   "execution_count": 16,
   "id": "2b821343-79a7-4a86-ac52-ac464100727a",
   "metadata": {
    "executionInfo": {
     "elapsed": 11234,
     "status": "ok",
     "timestamp": 1658424348942,
     "user": {
      "displayName": "Mauricio Arancibia",
      "userId": "13958671575886021820"
     },
     "user_tz": 240
    },
    "id": "2b821343-79a7-4a86-ac52-ac464100727a"
   },
   "outputs": [],
   "source": [
    "#Tokenize\n",
    "\n",
    "nombre_modelo = 'bert-base-multilingual-uncased'\n",
    "#nombre_modelo = 'distilbert-base-uncased'\n",
    "\n",
    "tokenizer = BertTokenizer.from_pretrained(nombre_modelo)\n",
    "train_encodings = tokenizer(X_train.to_list(), truncation=True, padding=True, return_tensors=\"tf\")"
   ]
  },
  {
   "cell_type": "code",
   "execution_count": 17,
   "id": "b524607f-43fa-41ba-969e-163a26ee7625",
   "metadata": {
    "executionInfo": {
     "elapsed": 3539,
     "status": "ok",
     "timestamp": 1658424355325,
     "user": {
      "displayName": "Mauricio Arancibia",
      "userId": "13958671575886021820"
     },
     "user_tz": 240
    },
    "id": "b524607f-43fa-41ba-969e-163a26ee7625"
   },
   "outputs": [],
   "source": [
    "MAX_SEQUENCE_LENGTH=train_encodings['input_ids'].shape[1]\n",
    "\n",
    "test_encodings = tokenizer(X_test.to_list(), truncation=True, padding='max_length', max_length=MAX_SEQUENCE_LENGTH, return_tensors=\"tf\")\n",
    "\n",
    "valid_encondings = tokenizer(X_valid.to_list(), truncation=True, padding='max_length', max_length=MAX_SEQUENCE_LENGTH, return_tensors=\"tf\")"
   ]
  },
  {
   "cell_type": "code",
   "execution_count": 18,
   "id": "7701b12e-0692-48fd-a517-8f4e0ab80179",
   "metadata": {
    "executionInfo": {
     "elapsed": 333,
     "status": "ok",
     "timestamp": 1658424366933,
     "user": {
      "displayName": "Mauricio Arancibia",
      "userId": "13958671575886021820"
     },
     "user_tz": 240
    },
    "id": "7701b12e-0692-48fd-a517-8f4e0ab80179"
   },
   "outputs": [],
   "source": [
    "train_dataset = tf.data.Dataset.from_tensor_slices((\n",
    "    dict(train_encodings),\n",
    "    y_train\n",
    "))\n",
    "test_dataset = tf.data.Dataset.from_tensor_slices((\n",
    "    dict(test_encodings),\n",
    "    y_test\n",
    "))\n",
    "valid_dataset = tf.data.Dataset.from_tensor_slices((\n",
    "    dict(valid_encondings),\n",
    "    y_valid\n",
    "))\n"
   ]
  },
  {
   "cell_type": "markdown",
   "id": "cec83dd7-b8f8-4b9b-9ee9-fb499f72fbef",
   "metadata": {
    "id": "cec83dd7-b8f8-4b9b-9ee9-fb499f72fbef"
   },
   "source": [
    "## Fine Tuning with BERT"
   ]
  },
  {
   "cell_type": "code",
   "execution_count": 19,
   "id": "9fe7fc64-b4f7-44ee-90d3-5c3c28224378",
   "metadata": {
    "colab": {
     "base_uri": "https://localhost:8080/"
    },
    "executionInfo": {
     "elapsed": 3886,
     "status": "ok",
     "timestamp": 1658424380238,
     "user": {
      "displayName": "Mauricio Arancibia",
      "userId": "13958671575886021820"
     },
     "user_tz": 240
    },
    "id": "9fe7fc64-b4f7-44ee-90d3-5c3c28224378",
    "outputId": "585e145d-fa25-4a54-cf89-f781cb6772cf"
   },
   "outputs": [
    {
     "name": "stderr",
     "output_type": "stream",
     "text": [
      "All model checkpoint layers were used when initializing TFBertForSequenceClassification.\n",
      "\n",
      "Some layers of TFBertForSequenceClassification were not initialized from the model checkpoint at bert-base-multilingual-uncased and are newly initialized: ['classifier']\n",
      "You should probably TRAIN this model on a down-stream task to be able to use it for predictions and inference.\n"
     ]
    },
    {
     "name": "stdout",
     "output_type": "stream",
     "text": [
      "Model: \"tf_bert_for_sequence_classification\"\n",
      "_________________________________________________________________\n",
      "Layer (type)                 Output Shape              Param #   \n",
      "=================================================================\n",
      "bert (TFBertMainLayer)       multiple                  167356416 \n",
      "_________________________________________________________________\n",
      "dropout_37 (Dropout)         multiple                  0         \n",
      "_________________________________________________________________\n",
      "classifier (Dense)           multiple                  4614      \n",
      "=================================================================\n",
      "Total params: 167,361,030\n",
      "Trainable params: 167,361,030\n",
      "Non-trainable params: 0\n",
      "_________________________________________________________________\n"
     ]
    }
   ],
   "source": [
    "N_SENTIMENT = len(encoded_dict)\n",
    "\n",
    "#definimos modelo de clasificación\n",
    "config = BertConfig.from_pretrained(nombre_modelo, hidden_dropout_prob=0.2, num_labels=N_SENTIMENT)\n",
    "\n",
    "model = TFBertForSequenceClassification.from_pretrained(nombre_modelo, config=config)\n",
    "model.bert.trainable = True #Freeze BERT layers\n",
    "\n",
    "# recommended learning rate for Adam 5e-5, 3e-5, 2e-5\n",
    "learning_rate = 2e-5\n",
    "\n",
    "optimizer = tf.keras.optimizers.Adam(learning_rate=learning_rate, epsilon=1e-08)\n",
    "\n",
    "loss = tf.keras.losses.SparseCategoricalCrossentropy(from_logits=True)\n",
    "metric = tf.keras.metrics.SparseCategoricalAccuracy('accuracy')\n",
    "\n",
    "model.compile(optimizer=optimizer, loss=loss, metrics=[metric])\n",
    "\n",
    "model.summary()"
   ]
  },
  {
   "cell_type": "code",
   "execution_count": null,
   "id": "38562445-ef75-4e17-b0b5-584a0a7f082e",
   "metadata": {
    "colab": {
     "base_uri": "https://localhost:8080/"
    },
    "executionInfo": {
     "elapsed": 416828,
     "status": "ok",
     "timestamp": 1658424805796,
     "user": {
      "displayName": "Mauricio Arancibia",
      "userId": "13958671575886021820"
     },
     "user_tz": 240
    },
    "id": "38562445-ef75-4e17-b0b5-584a0a7f082e",
    "outputId": "da5995c0-8bcc-4d34-bc06-2328151b7d21"
   },
   "outputs": [
    {
     "name": "stderr",
     "output_type": "stream",
     "text": [
      "[codecarbon INFO @ 13:35:45] [setup] RAM Tracking...\n",
      "[codecarbon INFO @ 13:35:45] [setup] GPU Tracking...\n",
      "[codecarbon INFO @ 13:35:45] Tracking Nvidia GPU via pynvml\n",
      "[codecarbon INFO @ 13:35:45] [setup] CPU Tracking...\n",
      "[codecarbon WARNING @ 13:35:45] No CPU tracking mode found. Falling back on CPU constant mode.\n",
      "[codecarbon INFO @ 13:35:47] CPU Model on constant consumption mode: Intel(R) Xeon(R) Platinum 8259CL CPU @ 2.50GHz\n",
      "[codecarbon INFO @ 13:35:47] >>> Tracker's metadata:\n",
      "[codecarbon INFO @ 13:35:47]   Platform system: Linux-4.14.281-212.502.amzn2.x86_64-x86_64-with-glibc2.2.5\n",
      "[codecarbon INFO @ 13:35:47]   Python version: 3.8.2\n",
      "[codecarbon INFO @ 13:35:47]   Available RAM : 15.374 GB\n",
      "[codecarbon INFO @ 13:35:47]   CPU count: 4\n",
      "[codecarbon INFO @ 13:35:47]   CPU model: Intel(R) Xeon(R) Platinum 8259CL CPU @ 2.50GHz\n",
      "[codecarbon INFO @ 13:35:47]   GPU count: 1\n",
      "[codecarbon INFO @ 13:35:47]   GPU model: 1 x Tesla T4\n"
     ]
    },
    {
     "name": "stdout",
     "output_type": "stream",
     "text": [
      "Epoch 1/3\n",
      "Extension horovod.torch has not been built: /usr/local/lib/python3.8/site-packages/horovod/torch/mpi_lib/_mpi_lib.cpython-38-x86_64-linux-gnu.so not found\n",
      "If this is not expected, reinstall Horovod with HOROVOD_WITH_PYTORCH=1 to debug the build error.\n",
      "Warning! MPI libs are missing, but python applications are still avaiable.\n",
      "[2022-07-29 13:35:47.796 tensorflow-2-6-gpu--ml-g4dn-xlarge-0dac2104acc07d6f4758a14ad24a:33 INFO utils.py:27] RULE_JOB_STOP_SIGNAL_FILENAME: None\n",
      "[2022-07-29 13:35:47.821 tensorflow-2-6-gpu--ml-g4dn-xlarge-0dac2104acc07d6f4758a14ad24a:33 INFO profiler_config_parser.py:111] Unable to find config at /opt/ml/input/config/profilerconfig.json. Profiler is disabled.\n",
      "500/500 [==============================] - 285s 537ms/step - loss: 0.8173 - accuracy: 0.7040 - val_loss: 0.2479 - val_accuracy: 0.9140\n",
      "Epoch 2/3\n",
      " 95/500 [====>.........................] - ETA: 3:34 - loss: 0.3047 - accuracy: 0.8990"
     ]
    }
   ],
   "source": [
    "#main loop\n",
    "batch_size=32\n",
    "N_EPOCHS = 3\n",
    "tracker = EmissionsTracker(project_name=\"BERT Sentiment Analysis\",\n",
    "                           output_dir=\"emissions/\",\n",
    "                           measure_power_secs=3600\n",
    "                          )\n",
    "\n",
    "tracker.start()\n",
    "\n",
    "history=model.fit(train_dataset.batch(batch_size), epochs=N_EPOCHS, batch_size=batch_size, validation_data=test_dataset.batch(batch_size))\n",
    "\n",
    "emissions: float = tracker.stop()\n",
    "print(emissions)"
   ]
  },
  {
   "cell_type": "code",
   "execution_count": null,
   "id": "51b8dc44-ab70-460e-90b1-e8daf911aba8",
   "metadata": {
    "colab": {
     "base_uri": "https://localhost:8080/",
     "height": 295
    },
    "executionInfo": {
     "elapsed": 379,
     "status": "ok",
     "timestamp": 1658424814373,
     "user": {
      "displayName": "Mauricio Arancibia",
      "userId": "13958671575886021820"
     },
     "user_tz": 240
    },
    "id": "51b8dc44-ab70-460e-90b1-e8daf911aba8",
    "outputId": "e7fd2939-5c97-43a9-cb62-8004243a1be4"
   },
   "outputs": [],
   "source": [
    "#Ploting results\n",
    "\n",
    "import matplotlib.pyplot as plt\n",
    "%matplotlib inline\n",
    "\n",
    "# Plot training & validation accuracy values\n",
    "plt.plot(history.history['accuracy'])\n",
    "plt.plot(history.history['val_accuracy'])\n",
    "plt.title('Fine-tuning BERT Sentiment Analysis')\n",
    "plt.ylabel('Accuracy')\n",
    "plt.xlabel('Epoch')\n",
    "plt.legend(['Train', 'Test'], loc='upper left')\n",
    "plt.show()"
   ]
  },
  {
   "cell_type": "markdown",
   "id": "0qnUAI6Mlc7V",
   "metadata": {
    "id": "0qnUAI6Mlc7V"
   },
   "source": [
    "## Evaluation"
   ]
  },
  {
   "cell_type": "code",
   "execution_count": null,
   "id": "JaM--nKIp5Ar",
   "metadata": {
    "colab": {
     "base_uri": "https://localhost:8080/"
    },
    "executionInfo": {
     "elapsed": 82282,
     "status": "ok",
     "timestamp": 1658424906373,
     "user": {
      "displayName": "Mauricio Arancibia",
      "userId": "13958671575886021820"
     },
     "user_tz": 240
    },
    "id": "JaM--nKIp5Ar",
    "outputId": "7c87aab3-ab9c-4e76-82bb-0a881d08502f"
   },
   "outputs": [],
   "source": [
    "#Training evaluation\n",
    "score,acc = model.evaluate(train_dataset.batch(batch_size), verbose = 2, batch_size = batch_size)\n",
    "print(\"score: %.2f\" % (score))\n",
    "print(\"acc: %.2f\" % (acc))"
   ]
  },
  {
   "cell_type": "code",
   "execution_count": null,
   "id": "78zFw83huFW9",
   "metadata": {
    "colab": {
     "base_uri": "https://localhost:8080/"
    },
    "executionInfo": {
     "elapsed": 10596,
     "status": "ok",
     "timestamp": 1658424970678,
     "user": {
      "displayName": "Mauricio Arancibia",
      "userId": "13958671575886021820"
     },
     "user_tz": 240
    },
    "id": "78zFw83huFW9",
    "outputId": "a89b7f10-7abc-49d1-9658-69e053533a9b"
   },
   "outputs": [],
   "source": [
    "#Test evaluation\n",
    "score,acc = model.evaluate(test_dataset.batch(batch_size), verbose = 2, batch_size = batch_size)\n",
    "print(\"score: %.2f\" % (score))\n",
    "print(\"acc: %.2f\" % (acc))"
   ]
  },
  {
   "cell_type": "code",
   "execution_count": null,
   "id": "nWunRnCwuLj5",
   "metadata": {
    "colab": {
     "base_uri": "https://localhost:8080/"
    },
    "executionInfo": {
     "elapsed": 8603,
     "status": "ok",
     "timestamp": 1658424979278,
     "user": {
      "displayName": "Mauricio Arancibia",
      "userId": "13958671575886021820"
     },
     "user_tz": 240
    },
    "id": "nWunRnCwuLj5",
    "outputId": "32bc1bc4-65a7-4108-f4ed-41feb8c6dbc5"
   },
   "outputs": [],
   "source": [
    "#Valid evaluation\n",
    "score,acc = model.evaluate(valid_dataset.batch(batch_size), verbose = 2, batch_size = batch_size)\n",
    "print(\"score: %.2f\" % (score))\n",
    "print(\"acc: %.2f\" % (acc))"
   ]
  },
  {
   "cell_type": "markdown",
   "id": "P2CZyibo1L2x",
   "metadata": {
    "id": "P2CZyibo1L2x"
   },
   "source": [
    "## Predictions"
   ]
  },
  {
   "cell_type": "code",
   "execution_count": null,
   "id": "Q63xm3YH3m_i",
   "metadata": {
    "executionInfo": {
     "elapsed": 391,
     "status": "ok",
     "timestamp": 1658426803127,
     "user": {
      "displayName": "Mauricio Arancibia",
      "userId": "13958671575886021820"
     },
     "user_tz": 240
    },
    "id": "Q63xm3YH3m_i"
   },
   "outputs": [],
   "source": [
    "# function to return key for any value\n",
    "def get_key(val):\n",
    "    for key, value in encoded_dict.items():\n",
    "         if val == value:\n",
    "             return key\n",
    " \n",
    "    return \"key doesn't exist\""
   ]
  },
  {
   "cell_type": "code",
   "execution_count": null,
   "id": "EUYlnbtC2E9t",
   "metadata": {
    "executionInfo": {
     "elapsed": 8117,
     "status": "ok",
     "timestamp": 1658426811642,
     "user": {
      "displayName": "Mauricio Arancibia",
      "userId": "13958671575886021820"
     },
     "user_tz": 240
    },
    "id": "EUYlnbtC2E9t"
   },
   "outputs": [],
   "source": [
    "predict = model.predict(valid_dataset.batch(batch_size))"
   ]
  },
  {
   "cell_type": "code",
   "execution_count": null,
   "id": "mnKmCzwT2U0P",
   "metadata": {
    "colab": {
     "base_uri": "https://localhost:8080/"
    },
    "executionInfo": {
     "elapsed": 25,
     "status": "ok",
     "timestamp": 1658426811643,
     "user": {
      "displayName": "Mauricio Arancibia",
      "userId": "13958671575886021820"
     },
     "user_tz": 240
    },
    "id": "mnKmCzwT2U0P",
    "outputId": "9232a20e-e0b4-4432-eb23-9e48ef35028c"
   },
   "outputs": [],
   "source": [
    "predict_proba = tf.nn.softmax(predict.logits)\n",
    "predict_classes = np.argmax(predict_proba, 1)\n",
    "predict_classes"
   ]
  },
  {
   "cell_type": "code",
   "execution_count": null,
   "id": "m_mz2KZW26tD",
   "metadata": {
    "executionInfo": {
     "elapsed": 19,
     "status": "ok",
     "timestamp": 1658426811643,
     "user": {
      "displayName": "Mauricio Arancibia",
      "userId": "13958671575886021820"
     },
     "user_tz": 240
    },
    "id": "m_mz2KZW26tD"
   },
   "outputs": [],
   "source": [
    "df_valid2['predicted'] = [get_key(x) for x in predict_classes]"
   ]
  },
  {
   "cell_type": "code",
   "execution_count": null,
   "id": "roQq8Rd_4ZN9",
   "metadata": {
    "colab": {
     "base_uri": "https://localhost:8080/",
     "height": 520
    },
    "executionInfo": {
     "elapsed": 334,
     "status": "ok",
     "timestamp": 1658427267920,
     "user": {
      "displayName": "Mauricio Arancibia",
      "userId": "13958671575886021820"
     },
     "user_tz": 240
    },
    "id": "roQq8Rd_4ZN9",
    "outputId": "062931f5-44f4-4616-ed62-11bf6b0cb706"
   },
   "outputs": [],
   "source": [
    "df_valid2.iloc[60:75]"
   ]
  },
  {
   "cell_type": "code",
   "execution_count": null,
   "id": "df8a8134-7ea0-4236-a30d-9c7ba591ce44",
   "metadata": {},
   "outputs": [],
   "source": [
    "#Confusion matrix\n",
    "cf_matrix = confusion_matrix(y_true=df_valid2.Sentiment, y_pred=df_valid2.predicted, labels = list(encoded_dict))\n",
    "plt.figure(figsize=(15,5))\n",
    "ax = sns.heatmap(cf_matrix, annot=True, fmt='g', cmap='Blues')\n",
    "ax.set_title(\"Confusion Matrix\")"
   ]
  },
  {
   "cell_type": "markdown",
   "id": "iAG1MNuU9RQr",
   "metadata": {
    "id": "iAG1MNuU9RQr"
   },
   "source": [
    "## Random Sentences Prediction"
   ]
  },
  {
   "cell_type": "code",
   "execution_count": null,
   "id": "xvbJo1dg5Ehy",
   "metadata": {
    "executionInfo": {
     "elapsed": 381,
     "status": "ok",
     "timestamp": 1658427160126,
     "user": {
      "displayName": "Mauricio Arancibia",
      "userId": "13958671575886021820"
     },
     "user_tz": 240
    },
    "id": "xvbJo1dg5Ehy"
   },
   "outputs": [],
   "source": [
    "#Simple text prediction\n",
    "sentences = [\"im feeling quite sad and sorry for myself but ill snap out of it soon\", \n",
    "             \"Today is my cousin's birthday party, I'm happy now\", \"I'm so lonely today, need some company\", \n",
    "             \"im updating my blog because i feel shitty\", \"I'm furious now, need to punch someone\"]"
   ]
  },
  {
   "cell_type": "code",
   "execution_count": null,
   "id": "kGTfFIa16USC",
   "metadata": {
    "executionInfo": {
     "elapsed": 1,
     "status": "ok",
     "timestamp": 1658427161431,
     "user": {
      "displayName": "Mauricio Arancibia",
      "userId": "13958671575886021820"
     },
     "user_tz": 240
    },
    "id": "kGTfFIa16USC"
   },
   "outputs": [],
   "source": [
    "predict_sentences = tokenizer(sentences, truncation=True, padding='max_length', max_length=MAX_SEQUENCE_LENGTH, return_tensors=\"tf\")\n",
    "predict_dataset = tf.data.Dataset.from_tensor_slices((\n",
    "    dict(predict_sentences),\n",
    "))"
   ]
  },
  {
   "cell_type": "code",
   "execution_count": null,
   "id": "UCK_mSgk5kW0",
   "metadata": {
    "executionInfo": {
     "elapsed": 2,
     "status": "ok",
     "timestamp": 1658427161752,
     "user": {
      "displayName": "Mauricio Arancibia",
      "userId": "13958671575886021820"
     },
     "user_tz": 240
    },
    "id": "UCK_mSgk5kW0"
   },
   "outputs": [],
   "source": [
    "predict = model.predict(predict_dataset.batch(batch_size))\n",
    "predict_proba = tf.nn.softmax(predict.logits)\n",
    "predict_classes = np.argmax(predict_proba, 1)"
   ]
  },
  {
   "cell_type": "code",
   "execution_count": null,
   "id": "LRXUdSs661Ji",
   "metadata": {
    "colab": {
     "base_uri": "https://localhost:8080/"
    },
    "executionInfo": {
     "elapsed": 3,
     "status": "ok",
     "timestamp": 1658427162073,
     "user": {
      "displayName": "Mauricio Arancibia",
      "userId": "13958671575886021820"
     },
     "user_tz": 240
    },
    "id": "LRXUdSs661Ji",
    "outputId": "2da90b3c-7a7d-4f82-f2f0-236d9e176752"
   },
   "outputs": [],
   "source": [
    "for i in range(len(predict_classes)):\n",
    "  print(sentences[i],\": \",get_key(predict_classes[i]))"
   ]
  },
  {
   "cell_type": "markdown",
   "id": "7638cee1-e695-4507-9c46-e96d44ad4931",
   "metadata": {
    "id": "KE-lkOQw8bz5"
   },
   "source": [
    "## Saving model"
   ]
  },
  {
   "cell_type": "code",
   "execution_count": null,
   "id": "01a4f384-a06b-4982-8932-065c0c060b40",
   "metadata": {},
   "outputs": [],
   "source": [
    "# save\n",
    "save_model_path = 'model/'\n",
    "\n",
    "model.save('model/bert_sentiment_model')\n"
   ]
  },
  {
   "cell_type": "code",
   "execution_count": null,
   "id": "0a955615-1bc9-4b7d-9950-11cbfa67189d",
   "metadata": {},
   "outputs": [],
   "source": [
    "#testing and load model\n",
    "model_load = tf.keras.models.load_model('model/bert_sentiment_model/')\n",
    "model.summary()"
   ]
  },
  {
   "cell_type": "code",
   "execution_count": null,
   "id": "22295ae1-f7aa-4bc6-ba7d-362bd8e68a16",
   "metadata": {},
   "outputs": [],
   "source": [
    "#Simple text prediction\n",
    "sentences = [\"im feeling quite sad and sorry for myself but ill snap out of it soon\", \n",
    "             \"Today is my cousin's birthday party, I'm happy now\", \"I'm so lonely today, need some company\", \n",
    "             \"im updating my blog because i feel shitty\", \"I'm furious now, need to punch someone\"]"
   ]
  },
  {
   "cell_type": "code",
   "execution_count": null,
   "id": "a2889ead-e997-4b76-8f30-5d35c7ea6022",
   "metadata": {},
   "outputs": [],
   "source": [
    "predict_sentences = tokenizer(sentences, truncation=True, padding='max_length', max_length=MAX_SEQUENCE_LENGTH, return_tensors=\"tf\")\n",
    "predict_dataset = tf.data.Dataset.from_tensor_slices((\n",
    "    dict(predict_sentences),\n",
    "))"
   ]
  },
  {
   "cell_type": "code",
   "execution_count": null,
   "id": "7d431dd7-8fbd-4303-903e-8a2dd00a8cf9",
   "metadata": {},
   "outputs": [],
   "source": [
    "predict = model_load.predict(predict_dataset.batch(batch_size))\n",
    "predict_proba = tf.nn.softmax(predict.logits)\n",
    "predict_classes = np.argmax(predict_proba, 1)"
   ]
  },
  {
   "cell_type": "code",
   "execution_count": null,
   "id": "e1e46409-87bd-4ab6-940f-f34f97d3fb49",
   "metadata": {},
   "outputs": [],
   "source": []
  }
 ],
 "metadata": {
  "accelerator": "GPU",
  "colab": {
   "collapsed_sections": [],
   "name": "CodeCarbon BERT-Sentiment.ipynb",
   "provenance": [],
   "toc_visible": true
  },
  "gpuClass": "standard",
  "instance_type": "ml.g4dn.xlarge",
  "kernelspec": {
   "display_name": "Python 3 (TensorFlow 2.6 Python 3.8 GPU Optimized)",
   "language": "python",
   "name": "python3__SAGEMAKER_INTERNAL__arn:aws:sagemaker:us-east-1:081325390199:image/tensorflow-2.6-gpu-py38-cu112-ubuntu20.04-v1"
  },
  "language_info": {
   "codemirror_mode": {
    "name": "ipython",
    "version": 3
   },
   "file_extension": ".py",
   "mimetype": "text/x-python",
   "name": "python",
   "nbconvert_exporter": "python",
   "pygments_lexer": "ipython3",
   "version": "3.8.2"
  }
 },
 "nbformat": 4,
 "nbformat_minor": 5
}
